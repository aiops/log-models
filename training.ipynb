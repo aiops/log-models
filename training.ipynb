{
 "cells": [
  {
   "cell_type": "code",
   "execution_count": 1,
   "metadata": {
    "pycharm": {
     "name": "#%%\n"
    }
   },
   "outputs": [
    {
     "name": "stderr",
     "output_type": "stream",
     "text": [
      "2022-08-29 10:14:23.698613: W tensorflow/stream_executor/platform/default/dso_loader.cc:64] Could not load dynamic library 'libcudart.so.11.0'; dlerror: libcudart.so.11.0: cannot open shared object file: No such file or directory\n",
      "2022-08-29 10:14:23.698636: I tensorflow/stream_executor/cuda/cudart_stub.cc:29] Ignore above cudart dlerror if you do not have a GPU set up on your machine.\n"
     ]
    }
   ],
   "source": [
    "import torch\n",
    "import torch.nn as nn\n",
    "import torch.nn.functional as F\n",
    "from torch.utils.data import TensorDataset, DataLoader, RandomSampler, SequentialSampler, WeightedRandomSampler\n",
    "from torchvision import transforms, utils\n",
    "from torch.autograd import Variable\n",
    "\n",
    "import numpy as np\n",
    "import pandas as pd\n",
    "import math, copy, time\n",
    "\n",
    "import matplotlib.pyplot as plt\n",
    "\n",
    "from sklearn.metrics import f1_score\n",
    "from sklearn.metrics import confusion_matrix\n",
    "from sklearn.metrics import recall_score\n",
    "from sklearn.metrics import precision_score\n",
    "from sklearn.metrics import accuracy_score\n",
    "\n",
    "import nltk\n",
    "from nltk.tokenize import word_tokenize\n",
    "from nltk.corpus import stopwords\n",
    "from tqdm import trange\n",
    "from nltk.sentiment.vader import SentimentIntensityAnalyzer\n",
    "import random\n",
    "import re\n",
    "from nltk.corpus import wordnet\n",
    "\n",
    "#importing the model\n",
    "from networks import *\n",
    "#import helper util functions\n",
    "from utils import do_syn_ant_augmentation, LogReader, LogTokenizer, get_data, get_padded_data, get_data_a\n",
    "#importing the trainer, predictor and the loss\n",
    "from trainer import run_train, run_test, SimpleLossCompute\n",
    "\n",
    "torch.random.seed = 0\n",
    "np.random.seed(0)"
   ]
  },
  {
   "cell_type": "code",
   "execution_count": 4,
   "metadata": {
    "pycharm": {
     "name": "#%%\n"
    }
   },
   "outputs": [],
   "source": [
    "#helper function to create the model --> the model is in networks.py\n",
    "def make_model(src_vocab, tgt_vocab, N=3, \n",
    "               d_model=512, d_ff=2048, h=8, dropout=0.1, max_len=20):\n",
    "    \"Helper: Construct a model from hyperparameters.\"\n",
    "    c = copy.deepcopy\n",
    "    attn = MultiHeadedAttention(h, d_model)\n",
    "    ff = PositionwiseFeedForward(d_model, d_ff, dropout)\n",
    "    position = PositionalEncoding(d_model, dropout, max_len)\n",
    "    model = EncoderDecoder(\n",
    "        Encoder(EncoderLayer(d_model, c(attn), c(ff), dropout), N),\n",
    "        Decoder(DecoderLayer(d_model, c(attn), c(attn), c(ff), dropout), N),\n",
    "        nn.Sequential(Embeddings(d_model, src_vocab), c(position)),\n",
    "        nn.Sequential(Embeddings(d_model, tgt_vocab), c(position)),\n",
    "        Generator(d_model, tgt_vocab))\n",
    "    \n",
    "    # This was important from their code. \n",
    "    # Initialize parameters with Glorot / fan_avg.\n",
    "    for p in model.parameters():\n",
    "        if p.dim() > 1:\n",
    "            nn.init.xavier_uniform_(p)\n",
    "    return model"
   ]
  },
  {
   "cell_type": "code",
   "execution_count": 59,
   "outputs": [
    {
     "name": "stderr",
     "output_type": "stream",
     "text": [
      "/tmp/ipykernel_23631/2247370369.py:1: FutureWarning: In a future version of pandas all arguments of DataFrame.drop except for the argument 'labels' will be keyword-only.\n",
      "  df = pd.read_csv('log_data_repository.csv').drop([\"Unnamed: 0\"], 1)\n"
     ]
    }
   ],
   "source": [
    "df = pd.read_csv('log_data_repository.csv').drop([\"Unnamed: 0\"], 1)\n",
    "df = df[df.log_level!=\"debug\"]"
   ],
   "metadata": {
    "collapsed": false,
    "pycharm": {
     "name": "#%%\n"
    }
   }
  },
  {
   "cell_type": "code",
   "execution_count": 61,
   "outputs": [
    {
     "data": {
      "text/plain": "                                         log_message log_level\n0               This unittest can not run on Windows   warning\n1      No send_alert_update method present for [STR]   warning\n2  multi bleu perl script returned non zero exit ...   warning\n3  Saved model uses tensorflow version <*> but no...   warning\n4   Weights named [STR] not found in network Skip it   warning",
      "text/html": "<div>\n<style scoped>\n    .dataframe tbody tr th:only-of-type {\n        vertical-align: middle;\n    }\n\n    .dataframe tbody tr th {\n        vertical-align: top;\n    }\n\n    .dataframe thead th {\n        text-align: right;\n    }\n</style>\n<table border=\"1\" class=\"dataframe\">\n  <thead>\n    <tr style=\"text-align: right;\">\n      <th></th>\n      <th>log_message</th>\n      <th>log_level</th>\n    </tr>\n  </thead>\n  <tbody>\n    <tr>\n      <th>0</th>\n      <td>This unittest can not run on Windows</td>\n      <td>warning</td>\n    </tr>\n    <tr>\n      <th>1</th>\n      <td>No send_alert_update method present for [STR]</td>\n      <td>warning</td>\n    </tr>\n    <tr>\n      <th>2</th>\n      <td>multi bleu perl script returned non zero exit ...</td>\n      <td>warning</td>\n    </tr>\n    <tr>\n      <th>3</th>\n      <td>Saved model uses tensorflow version &lt;*&gt; but no...</td>\n      <td>warning</td>\n    </tr>\n    <tr>\n      <th>4</th>\n      <td>Weights named [STR] not found in network Skip it</td>\n      <td>warning</td>\n    </tr>\n  </tbody>\n</table>\n</div>"
     },
     "execution_count": 61,
     "metadata": {},
     "output_type": "execute_result"
    }
   ],
   "source": [
    "df.head()"
   ],
   "metadata": {
    "collapsed": false,
    "pycharm": {
     "name": "#%%\n"
    }
   }
  },
  {
   "cell_type": "code",
   "execution_count": 62,
   "outputs": [],
   "source": [
    "mappings = {\"warning\":0, \"warn\":0, \"error\":0, \"log\":1, \"fatal\":0, \"trace\":1, \"critical\":0, \"exception\": 0, \"info\": 1}\n",
    "def level_to_binary(x):\n",
    "    return mappings[x]\n"
   ],
   "metadata": {
    "collapsed": false,
    "pycharm": {
     "name": "#%%\n"
    }
   }
  },
  {
   "cell_type": "code",
   "execution_count": 63,
   "outputs": [],
   "source": [
    "df['target'] = df.log_level.apply(lambda x: level_to_binary(x))"
   ],
   "metadata": {
    "collapsed": false,
    "pycharm": {
     "name": "#%%\n"
    }
   }
  },
  {
   "cell_type": "code",
   "execution_count": 66,
   "metadata": {
    "scrolled": true,
    "pycharm": {
     "name": "#%%\n"
    }
   },
   "outputs": [
    {
     "name": "stderr",
     "output_type": "stream",
     "text": [
      "100%|██████████| 763948/763948 [00:59<00:00, 12870.85it/s]\n"
     ]
    }
   ],
   "source": [
    "tokenizer = LogTokenizer()\n",
    "df_len = int(df.shape[0])\n",
    "data_tokenized = []\n",
    "for i in trange(0, df_len):\n",
    "    tokenized = tokenizer.tokenize(df.iloc[i].log_message)\n",
    "    data_tokenized.append(tokenized)"
   ]
  },
  {
   "cell_type": "code",
   "execution_count": 67,
   "metadata": {
    "pycharm": {
     "name": "#%%\n"
    }
   },
   "outputs": [
    {
     "name": "stderr",
     "output_type": "stream",
     "text": [
      "/tmp/ipykernel_23631/4156074377.py:1: VisibleDeprecationWarning: Creating an ndarray from ragged nested sequences (which is a list-or-tuple of lists-or-tuples-or ndarrays with different lengths or shapes) is deprecated. If you meant to do this, you must specify 'dtype=object' when creating the ndarray.\n",
      "  data_token_indexed = np.asanyarray(data_tokenized)\n"
     ]
    }
   ],
   "source": [
    "data_token_indexed = np.asanyarray(data_tokenized)"
   ]
  },
  {
   "cell_type": "code",
   "execution_count": 70,
   "outputs": [
    {
     "data": {
      "text/plain": "(611158, 763948)"
     },
     "execution_count": 70,
     "metadata": {},
     "output_type": "execute_result"
    }
   ],
   "source": [
    "ratio = 0.8\n",
    "train_size = round(df_len * ratio)\n",
    "train_size, df_len"
   ],
   "metadata": {
    "collapsed": false,
    "pycharm": {
     "name": "#%%\n"
    }
   }
  },
  {
   "cell_type": "code",
   "execution_count": 77,
   "metadata": {
    "pycharm": {
     "name": "#%%\n"
    }
   },
   "outputs": [],
   "source": [
    "data_token_indexed_test = data_token_indexed[train_size:]\n",
    "data_token_indexed_train = data_token_indexed[:train_size]\n",
    "\n",
    "test_ground_labels = df.target.values[train_size:]\n",
    "train_ground_labels = df.target.values[:train_size]"
   ]
  },
  {
   "cell_type": "code",
   "execution_count": 78,
   "metadata": {
    "pycharm": {
     "name": "#%%\n"
    }
   },
   "outputs": [
    {
     "name": "stdout",
     "output_type": "stream",
     "text": [
      "There are: 46522 unique log messages\n"
     ]
    }
   ],
   "source": [
    "a = np.intersect1d(np.unique(data_token_indexed_test), np.unique(data_token_indexed_train), assume_unique=True)\n",
    "#unique in test - intersection  \n",
    "print(\"There are:\",np.unique(data_token_indexed_test).shape[0] - a.shape[0],\"unique log messages\")"
   ]
  },
  {
   "cell_type": "code",
   "execution_count": 79,
   "metadata": {
    "pycharm": {
     "name": "#%%\n"
    }
   },
   "outputs": [],
   "source": [
    "batch_size = 2048\n",
    "transform_to_tensor = transforms.Lambda(lambda lst: torch.tensor(lst))\n",
    "train_data = TensorDataset(torch.tensor(get_padded_data(data_token_indexed_train, pad_len=50), dtype=torch.long), torch.tensor(train_ground_labels.astype(np.int32), dtype=torch.long))\n",
    "train_sampler = RandomSampler(train_data)\n",
    "train_dataloader = DataLoader(train_data, sampler=train_sampler, batch_size=batch_size)\n",
    "\n",
    "test_data = TensorDataset(torch.tensor(get_padded_data(data_token_indexed_test, pad_len=50), dtype=torch.long), torch.tensor(test_ground_labels.astype(np.int32).flatten(), dtype=torch.long))\n",
    "test_sampler = SequentialSampler(test_data)\n",
    "test_dataloader = DataLoader(test_data, sampler=test_sampler, batch_size=batch_size)\n"
   ]
  },
  {
   "cell_type": "code",
   "execution_count": 81,
   "metadata": {
    "pycharm": {
     "name": "#%%\n"
    }
   },
   "outputs": [],
   "source": [
    "class SimpleLossCompute:\n",
    "    \"A simple loss compute and train function.\"\n",
    "    def __init__(self, model, criterion, opt=None, is_test=False):\n",
    "        self.model = model\n",
    "        self.criterion = criterion\n",
    "        self.opt = opt\n",
    "        self.is_test = is_test\n",
    "        \n",
    "    def __call__(self, x, y, dist):\n",
    "        loss = torch.mean((1-y)*torch.sqrt(dist) - (y)*torch.log(1-torch.exp(-torch.sqrt(dist))))\n",
    "        if not self.is_test:\n",
    "            loss.backward()\n",
    "            if self.opt is not None:\n",
    "                self.opt.step()\n",
    "                self.opt.zero_grad()\n",
    "\n",
    "        return loss.item()"
   ]
  },
  {
   "cell_type": "code",
   "execution_count": 83,
   "metadata": {
    "pycharm": {
     "name": "#%%\n"
    }
   },
   "outputs": [],
   "source": [
    "def run_train(dataloader, model, loss_compute, step_size=10):\n",
    "    \"Standard Training and Logging Function\"\n",
    "    start = time.time()\n",
    "    total_tokens = 0\n",
    "    total_loss = 0\n",
    "    tokens = 0\n",
    "    z = []\n",
    "    for i, batch in enumerate(dataloader):\n",
    "        b_input, b_labels = batch\n",
    "        z += b_input[0]\n",
    "        \n",
    "        out = model.forward(b_input.cuda(), b_labels.cuda(), None, None)\n",
    "        dist = torch.sum((out[:,0,:] - model.c) ** 2, dim=1)\n",
    "        loss = loss_compute(out, b_labels.cuda(), dist)\n",
    "        total_loss += loss\n",
    "        \n",
    "        if i % step_size == 1:\n",
    "            elapsed = time.time() - start\n",
    "            print(\"Epoch Step: %d / %d Loss: %f\" %\n",
    "                    (i, len(dataloader), loss))\n",
    "            start = time.time()\n",
    "            tokens = 0\n",
    "    return total_loss, z"
   ]
  },
  {
   "cell_type": "code",
   "execution_count": 86,
   "metadata": {
    "scrolled": true,
    "pycharm": {
     "name": "#%%\n"
    }
   },
   "outputs": [
    {
     "ename": "AssertionError",
     "evalue": "Torch not compiled with CUDA enabled",
     "output_type": "error",
     "traceback": [
      "\u001B[0;31m---------------------------------------------------------------------------\u001B[0m",
      "\u001B[0;31mAssertionError\u001B[0m                            Traceback (most recent call last)",
      "Input \u001B[0;32mIn [86]\u001B[0m, in \u001B[0;36m<cell line: 3>\u001B[0;34m()\u001B[0m\n\u001B[1;32m      1\u001B[0m \u001B[38;5;28;01mfrom\u001B[39;00m \u001B[38;5;21;01msklearn\u001B[39;00m\u001B[38;5;21;01m.\u001B[39;00m\u001B[38;5;21;01mmetrics\u001B[39;00m \u001B[38;5;28;01mimport\u001B[39;00m roc_auc_score\n\u001B[1;32m      2\u001B[0m \u001B[38;5;28;01mfrom\u001B[39;00m \u001B[38;5;21;01msklearn\u001B[39;00m\u001B[38;5;21;01m.\u001B[39;00m\u001B[38;5;21;01mmetrics\u001B[39;00m \u001B[38;5;28;01mimport\u001B[39;00m roc_curve\n\u001B[0;32m----> 3\u001B[0m criterion \u001B[38;5;241m=\u001B[39m nn\u001B[38;5;241m.\u001B[39mCrossEntropyLoss(weight\u001B[38;5;241m=\u001B[39m\u001B[43mtorch\u001B[49m\u001B[38;5;241;43m.\u001B[39;49m\u001B[43mtensor\u001B[49m\u001B[43m(\u001B[49m\u001B[43m[\u001B[49m\u001B[38;5;241;43m0.8\u001B[39;49m\u001B[43m,\u001B[49m\u001B[38;5;241;43m1.0\u001B[39;49m\u001B[43m]\u001B[49m\u001B[43m)\u001B[49m\u001B[38;5;241;43m.\u001B[39;49m\u001B[43mcuda\u001B[49m\u001B[43m(\u001B[49m\u001B[43m)\u001B[49m)\n\u001B[1;32m      4\u001B[0m model \u001B[38;5;241m=\u001B[39m make_model(tokenizer\u001B[38;5;241m.\u001B[39mn_words, \u001B[38;5;241m2\u001B[39m, N\u001B[38;5;241m=\u001B[39m\u001B[38;5;241m2\u001B[39m, h\u001B[38;5;241m=\u001B[39m\u001B[38;5;241m2\u001B[39m, d_model\u001B[38;5;241m=\u001B[39m\u001B[38;5;241m16\u001B[39m, d_ff\u001B[38;5;241m=\u001B[39m\u001B[38;5;241m16\u001B[39m, dropout\u001B[38;5;241m=\u001B[39m\u001B[38;5;241m0.05\u001B[39m, max_len\u001B[38;5;241m=\u001B[39m\u001B[38;5;241m50\u001B[39m)\n\u001B[1;32m      5\u001B[0m model\u001B[38;5;241m.\u001B[39mcuda()\n",
      "File \u001B[0;32m~/anaconda3/envs/logsight/lib/python3.8/site-packages/torch/cuda/__init__.py:211\u001B[0m, in \u001B[0;36m_lazy_init\u001B[0;34m()\u001B[0m\n\u001B[1;32m    207\u001B[0m     \u001B[38;5;28;01mraise\u001B[39;00m \u001B[38;5;167;01mRuntimeError\u001B[39;00m(\n\u001B[1;32m    208\u001B[0m         \u001B[38;5;124m\"\u001B[39m\u001B[38;5;124mCannot re-initialize CUDA in forked subprocess. To use CUDA with \u001B[39m\u001B[38;5;124m\"\u001B[39m\n\u001B[1;32m    209\u001B[0m         \u001B[38;5;124m\"\u001B[39m\u001B[38;5;124mmultiprocessing, you must use the \u001B[39m\u001B[38;5;124m'\u001B[39m\u001B[38;5;124mspawn\u001B[39m\u001B[38;5;124m'\u001B[39m\u001B[38;5;124m start method\u001B[39m\u001B[38;5;124m\"\u001B[39m)\n\u001B[1;32m    210\u001B[0m \u001B[38;5;28;01mif\u001B[39;00m \u001B[38;5;129;01mnot\u001B[39;00m \u001B[38;5;28mhasattr\u001B[39m(torch\u001B[38;5;241m.\u001B[39m_C, \u001B[38;5;124m'\u001B[39m\u001B[38;5;124m_cuda_getDeviceCount\u001B[39m\u001B[38;5;124m'\u001B[39m):\n\u001B[0;32m--> 211\u001B[0m     \u001B[38;5;28;01mraise\u001B[39;00m \u001B[38;5;167;01mAssertionError\u001B[39;00m(\u001B[38;5;124m\"\u001B[39m\u001B[38;5;124mTorch not compiled with CUDA enabled\u001B[39m\u001B[38;5;124m\"\u001B[39m)\n\u001B[1;32m    212\u001B[0m \u001B[38;5;28;01mif\u001B[39;00m _cudart \u001B[38;5;129;01mis\u001B[39;00m \u001B[38;5;28;01mNone\u001B[39;00m:\n\u001B[1;32m    213\u001B[0m     \u001B[38;5;28;01mraise\u001B[39;00m \u001B[38;5;167;01mAssertionError\u001B[39;00m(\n\u001B[1;32m    214\u001B[0m         \u001B[38;5;124m\"\u001B[39m\u001B[38;5;124mlibcudart functions unavailable. It looks like you have a broken build?\u001B[39m\u001B[38;5;124m\"\u001B[39m)\n",
      "\u001B[0;31mAssertionError\u001B[0m: Torch not compiled with CUDA enabled"
     ]
    }
   ],
   "source": [
    "from sklearn.metrics import roc_auc_score\n",
    "from sklearn.metrics import roc_curve\n",
    "criterion = nn.CrossEntropyLoss(weight=torch.tensor([0.8,1.0]).cuda())\n",
    "model = make_model(tokenizer.n_words, 2, N=2, h=2, d_model=16, d_ff=16, dropout=0.05, max_len=50)\n",
    "model.cuda()\n",
    "model_opt = torch.optim.Adam(model.parameters(), lr=0.0001, betas=(0.9, 0.999), weight_decay=0.001)\n",
    "max_auc = 0.0\n",
    "max_distances = 0\n",
    "for epoch in range(30):\n",
    "    #training\n",
    "    model.train()\n",
    "    print(\"Epoch\",epoch)\n",
    "    run_train(train_dataloader, model, \n",
    "             SimpleLossCompute(model, criterion, model_opt), step_size=100)\n",
    "    torch.save(model.state_dict(), '../output/models/model_'+str(epoch)+'.pt')\n",
    "    \n",
    "    \n",
    "    #test\n",
    "    model.eval()\n",
    "    preds, distances = run_test(test_dataloader, model, \n",
    "                        SimpleLossCompute(model, criterion, None, is_test=True), step_size=100)\n",
    "\n",
    "    preds = np.array(preds)\n",
    "    auc = roc_auc_score(test_ground_labels.astype(np.int32), distances)\n",
    "    print(\"AUC:\", auc)\n",
    "    if auc > max_auc:\n",
    "        max_auc = auc\n",
    "        fpr, tpr, thresholds = roc_curve(test_ground_labels.astype(np.int32), distances, pos_label=1)\n",
    "        np.save(str(aux_size)+'_without8020.npy',[fpr, tpr, thresholds])\n",
    "        print(roc_auc_score(test_ground_labels.astype(np.int32), distances))\n",
    "        max_distances = distances\n",
    "    "
   ]
  },
  {
   "cell_type": "code",
   "execution_count": 42,
   "metadata": {
    "pycharm": {
     "name": "#%%\n"
    }
   },
   "outputs": [
    {
     "data": {
      "image/png": "[encoded data removed]",
      "text/plain": [
       "<Figure size 432x288 with 1 Axes>"
      ]
     },
     "metadata": {
      "needs_background": "light"
     },
     "output_type": "display_data"
    }
   ],
   "source": [
    "plt.figure()\n",
    "lw = 2\n",
    "plt.plot(fpr, tpr, color='darkorange',\n",
    "         lw=lw, label='ROC curve (area = %0.2f)' % roc_auc_score(test_ground_labels.astype(np.int32), max_distances))\n",
    "plt.plot([0, 1], [0, 1], color='navy', lw=lw, linestyle='--')\n",
    "plt.xlim([0.0, 1.0])\n",
    "plt.ylim([0.0, 1.05])\n",
    "plt.xlabel('False Positive Rate')\n",
    "plt.ylabel('True Positive Rate')\n",
    "plt.title('Receiver operating characteristic example')\n",
    "plt.legend(loc=\"lower right\")\n",
    "plt.show()"
   ]
  }
 ],
 "metadata": {
  "kernelspec": {
   "display_name": "Python 3",
   "language": "python",
   "name": "python3"
  },
  "language_info": {
   "codemirror_mode": {
    "name": "ipython",
    "version": 3
   },
   "file_extension": ".py",
   "mimetype": "text/x-python",
   "name": "python",
   "nbconvert_exporter": "python",
   "pygments_lexer": "ipython3",
   "version": "3.6.7"
  }
 },
 "nbformat": 4,
 "nbformat_minor": 2
}